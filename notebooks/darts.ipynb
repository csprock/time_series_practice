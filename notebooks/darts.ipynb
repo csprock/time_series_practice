{
 "cells": [
  {
   "cell_type": "code",
   "execution_count": null,
   "metadata": {},
   "outputs": [],
   "source": [
    "%cd /app\n",
    "\n",
    "import numpy as np\n",
    "import pandas as pd"
   ]
  },
  {
   "cell_type": "markdown",
   "metadata": {},
   "source": []
  },
  {
   "cell_type": "markdown",
   "metadata": {},
   "source": [
    "# Building and Manipulating TimeSeries objects"
   ]
  },
  {
   "cell_type": "code",
   "execution_count": null,
   "metadata": {},
   "outputs": [],
   "source": [
    "from darts import TimeSeries\n",
    "from darts.utils.utils import generate_index\n",
    "\n",
    "# generate a sine and cosine wave\n",
    "x = np.linspace(0,2 * np.pi, 100)\n",
    "sine_vals = np.sin(x)\n",
    "cosine_values = np.cos(x)\n",
    "\n",
    "#generate a DatetimeIndex with daily frequency\n",
    "dates = generate_index(\n",
    "    start = \"2020-01-01\",\n",
    "    length = len(x), \n",
    "    freq=\"D\"\n",
    ")\n",
    "\n",
    "df = pd.DataFrame({\n",
    "    \"sine\": sine_vals,\n",
    "    \"cosine\": cosine_values,\n",
    "    \"time\": dates\n",
    "})\n",
    "\n",
    "series = TimeSeries.from_dataframe(df, time_col = \"time\")"
   ]
  },
  {
   "cell_type": "code",
   "execution_count": null,
   "metadata": {},
   "outputs": [],
   "source": [
    "series.plot()"
   ]
  },
  {
   "cell_type": "code",
   "execution_count": null,
   "metadata": {},
   "outputs": [],
   "source": [
    "from darts.datasets import AirPassengersDataset\n",
    "\n",
    "series = AirPassengersDataset().load()\n",
    "series.plot()"
   ]
  },
  {
   "cell_type": "code",
   "execution_count": null,
   "metadata": {},
   "outputs": [],
   "source": [
    "series[-5:].to_dataframe(backend=\"pandas\", time_as_index=True)"
   ]
  },
  {
   "cell_type": "code",
   "execution_count": null,
   "metadata": {},
   "outputs": [],
   "source": [
    "series1, series2 = series.split_after(0.75)\n",
    "series1.plot(label=\"Train\")\n",
    "series2.plot(label=\"Test\")"
   ]
  },
  {
   "cell_type": "code",
   "execution_count": null,
   "metadata": {},
   "outputs": [],
   "source": [
    "series1, series2 = series[:-36], series[-36:]\n",
    "series1.plot(label=\"Train\")\n",
    "series2.plot(label=\"Test\")"
   ]
  },
  {
   "cell_type": "code",
   "execution_count": null,
   "metadata": {},
   "outputs": [],
   "source": [
    "series_noise = TimeSeries.from_times_and_values(\n",
    "    series.time_index, np.random.randn(len(series))\n",
    ")\n",
    "combined_series = series / 2 + 20 * series_noise - 1\n",
    "combined_series.plot(label=\"Combined Series\")"
   ]
  },
  {
   "cell_type": "code",
   "execution_count": null,
   "metadata": {},
   "outputs": [],
   "source": [
    "stacked_series = (series / 50).stack(series_noise)\n",
    "stacked_series.plot()"
   ]
  },
  {
   "cell_type": "code",
   "execution_count": null,
   "metadata": {},
   "outputs": [],
   "source": [
    "series.map(np.log).plot()"
   ]
  },
  {
   "cell_type": "code",
   "execution_count": null,
   "metadata": {},
   "outputs": [],
   "source": [
    "series.map(lambda ts, x: x / ts.days_in_month).plot()"
   ]
  },
  {
   "cell_type": "code",
   "execution_count": null,
   "metadata": {},
   "outputs": [],
   "source": [
    "(series / 20).add_datetime_attribute(\"month\").plot()"
   ]
  },
  {
   "cell_type": "code",
   "execution_count": null,
   "metadata": {},
   "outputs": [],
   "source": [
    "(series / 200).add_holidays(\"US\").plot()"
   ]
  },
  {
   "cell_type": "code",
   "execution_count": null,
   "metadata": {},
   "outputs": [],
   "source": [
    "series.diff().plot()"
   ]
  },
  {
   "cell_type": "code",
   "execution_count": null,
   "metadata": {},
   "outputs": [],
   "source": [
    "## fill missing values using a utils function\n",
    "from darts.utils.missing_values import fill_missing_values\n",
    "\n",
    "values = np.arange(50, step=0.5)\n",
    "values[10:30] = np.nan\n",
    "values[60:95] = np.nan\n",
    "\n",
    "series_ = TimeSeries.from_values(values)\n",
    "(series_ - 10).plot(label = \"with missing values (shifted below)\")\n",
    "fill_missing_values(series_).plot(label = \"without missing values\")"
   ]
  },
  {
   "cell_type": "markdown",
   "metadata": {},
   "source": [
    "# Creating a training and validation series"
   ]
  },
  {
   "cell_type": "code",
   "execution_count": null,
   "metadata": {},
   "outputs": [],
   "source": [
    "train, val = series.split_before(pd.Timestamp(\"19580101\"))\n",
    "train.plot(label=\"Train\")\n",
    "val.plot(label=\"Validation\")"
   ]
  },
  {
   "cell_type": "markdown",
   "metadata": {},
   "source": [
    "# Training forecasting models and making predictions\n",
    "\n",
    "## Playing with toy models"
   ]
  },
  {
   "cell_type": "code",
   "execution_count": null,
   "metadata": {},
   "outputs": [],
   "source": [
    "from darts.models import NaiveSeasonal\n",
    "\n",
    "naive_model = NaiveSeasonal(K=1)\n",
    "naive_model_s = NaiveSeasonal(K=12)\n",
    "naive_model.fit(train)\n",
    "naive_forecast_1 = naive_model.predict(36)\n",
    "\n",
    "naive_model_s.fit(train)\n",
    "naive_forecast_12 = naive_model_s.predict(36)\n",
    "\n",
    "series.plot(label=\"actual\")\n",
    "naive_forecast_1.plot(label=\"naive forecast (K=1)\")\n",
    "naive_forecast_12.plot(label=\"naive forecast (K=12)\")"
   ]
  },
  {
   "cell_type": "markdown",
   "metadata": {},
   "source": [
    "## Inspect Seasonality"
   ]
  },
  {
   "cell_type": "code",
   "execution_count": null,
   "metadata": {},
   "outputs": [],
   "source": [
    "from darts.utils.statistics import check_seasonality, plot_acf\n",
    "\n",
    "plot_acf(train, m=12, alpha=0.05, max_lag=24)"
   ]
  },
  {
   "cell_type": "code",
   "execution_count": null,
   "metadata": {},
   "outputs": [],
   "source": [
    "for m in range(2, 25):\n",
    "    is_seasonal, period = check_seasonality(train, m=m, alpha=0.05)\n",
    "    if is_seasonal:\n",
    "        print(f\"There is seasonality of {period} months\")"
   ]
  },
  {
   "cell_type": "markdown",
   "metadata": {},
   "source": [
    "## A less naive model"
   ]
  },
  {
   "cell_type": "code",
   "execution_count": null,
   "metadata": {},
   "outputs": [],
   "source": [
    "seasonal_model = NaiveSeasonal(K=12)\n",
    "seasonal_model.fit(train)\n",
    "seasonal_forecast = seasonal_model.predict(36)\n",
    "\n",
    "series.plot(label=\"actual\")\n",
    "seasonal_forecast.plot(label=\"naive seasonal forecast K=12\")"
   ]
  },
  {
   "cell_type": "code",
   "execution_count": null,
   "metadata": {},
   "outputs": [],
   "source": [
    "from darts.models import NaiveDrift\n",
    "\n",
    "drift_model = NaiveDrift()\n",
    "drift_model.fit(train)\n",
    "drift_forecast = drift_model.predict(36)\n",
    "\n",
    "combined_forecast = drift_forecast + seasonal_forecast - train.last_value()\n",
    "\n",
    "series.plot()\n",
    "combined_forecast.plot(label=\"combined\")\n",
    "drift_forecast.plot(label=\"drift\")"
   ]
  },
  {
   "cell_type": "markdown",
   "metadata": {},
   "source": [
    "## Computing error metrics"
   ]
  },
  {
   "cell_type": "code",
   "execution_count": null,
   "metadata": {},
   "outputs": [],
   "source": [
    "from darts.metrics import mape\n",
    "\n",
    "print(\n",
    "    f\"Mean absolute percentage error for the combined naive drift + seasonal: {mape(series, combined_forecast):.2f}%.\"\n",
    ")"
   ]
  },
  {
   "cell_type": "markdown",
   "metadata": {},
   "source": [
    "## Quickly try out several models"
   ]
  },
  {
   "cell_type": "code",
   "execution_count": null,
   "metadata": {},
   "outputs": [],
   "source": [
    "from darts.models import AutoARIMA, ExponentialSmoothing, Theta\n",
    "\n",
    "def eval_model(model):\n",
    "    model.fit(train)\n",
    "    forecast = model.predict(len(val))\n",
    "    print(f\"Model {model} obtains MAPE: {mape(val, forecast):.2f}%\")\n",
    "\n",
    "eval_model(ExponentialSmoothing())\n",
    "eval_model(AutoARIMA())\n",
    "eval_model(Theta())"
   ]
  },
  {
   "cell_type": "markdown",
   "metadata": {},
   "source": [
    "## Searching for hyper-parameters with the Theta method\n",
    "\n"
   ]
  },
  {
   "cell_type": "code",
   "execution_count": null,
   "metadata": {},
   "outputs": [],
   "source": [
    "thetas = 2 - np.linspace(-10, 10, 50)\n",
    "\n",
    "best_mape = float(\"inf\")\n",
    "best_theta = 0\n",
    "\n",
    "for theta in thetas:\n",
    "    model = Theta(theta)\n",
    "    model.fit(train)\n",
    "    pred_theta = model.predict(len(val))\n",
    "    res = mape(val, pred_theta)\n",
    "    if res < best_mape:\n",
    "        best_mape = res\n",
    "        best_theta = theta"
   ]
  },
  {
   "cell_type": "code",
   "execution_count": null,
   "metadata": {},
   "outputs": [],
   "source": [
    "best_theta_model = Theta(best_theta)\n",
    "best_theta_model.fit(train)\n",
    "pred_best_theta = best_theta_model.predict(len(val))\n",
    "\n",
    "print(f\"Lowest MAPE is: {mape(val, pred_best_theta):.2f}% with theta={best_theta:.2f}\")"
   ]
  },
  {
   "cell_type": "code",
   "execution_count": null,
   "metadata": {},
   "outputs": [],
   "source": [
    "train.plot(label=\"train\")\n",
    "val.plot(label=\"true\")\n",
    "pred_best_theta.plot(label=\"prediction\")"
   ]
  },
  {
   "cell_type": "markdown",
   "metadata": {},
   "source": [
    "# Backtesting: simulate historical forecasting"
   ]
  },
  {
   "cell_type": "code",
   "execution_count": null,
   "metadata": {},
   "outputs": [],
   "source": [
    "hfc_params = {\n",
    "    \"series\": series,\n",
    "    \"start\": pd.Timestamp(\"1956-01-01\"),\n",
    "    \"forecast_horizon\": 3,\n",
    "    \"verbose\": True\n",
    "}\n",
    "# last points only, only use the 3rd month of the fcast to make series\n",
    "historical_fcast_theta = best_theta_model.historical_forecasts(last_points_only=True, **hfc_params)\n",
    "\n",
    "series.plot(label=\"data\")\n",
    "historical_fcast_theta.plot(label=\"backtest 3-months ahead forecast (Theta)\")\n",
    "print(f\"MAPE: {mape(series, historical_fcast_theta):.2f}%\")"
   ]
  },
  {
   "cell_type": "code",
   "execution_count": null,
   "metadata": {},
   "outputs": [],
   "source": [
    "historical_fcast_theta"
   ]
  },
  {
   "cell_type": "code",
   "execution_count": null,
   "metadata": {},
   "outputs": [],
   "source": [
    "historical_fcast_theta_all = best_theta_model.historical_forecasts(\n",
    "    last_points_only=False, stride=3, **hfc_params\n",
    ")\n",
    "\n",
    "series.plot(label=\"data\")\n",
    "for idx, hfc in enumerate(historical_fcast_theta_all):\n",
    "    hfc.plot(label=f\"forecast {idx}\")\n",
    "\n",
    "\n",
    "from darts import concatenate\n",
    "\n",
    "historical_fcast_theta_all_2 = concatenate(historical_fcast_theta_all, axis=0)\n",
    "print(f\"MAPE: {mape(series, historical_fcast_theta_all_2):.2f}%\")"
   ]
  },
  {
   "cell_type": "code",
   "execution_count": null,
   "metadata": {},
   "outputs": [],
   "source": [
    "historical_fcast_theta_all"
   ]
  },
  {
   "cell_type": "code",
   "execution_count": null,
   "metadata": {},
   "outputs": [],
   "source": [
    "best_theta_model = Theta(best_theta)\n",
    "\n",
    "raw_errors = best_theta_model.backtest(\n",
    "    metric=mape, reduction=None, last_points_only=False, stride=1, **hfc_params\n",
    ")\n",
    "\n",
    "from darts.utils.statistics import plot_hist\n",
    "\n",
    "plot_hist(\n",
    "    raw_errors,\n",
    "    bins=np.arange(0, max(raw_errors),1),\n",
    "    title=\"Individual backtest error scores (histogram)\"\n",
    ")"
   ]
  },
  {
   "cell_type": "code",
   "execution_count": null,
   "metadata": {},
   "outputs": [],
   "source": [
    "average_error = best_theta_model.backtest(\n",
    "    metric=mape,\n",
    "    reduction=np.mean, # np.median\n",
    "    **hfc_params\n",
    ")\n",
    "\n",
    "print(f\"Average backtest error: {average_error:.2f}%\")"
   ]
  },
  {
   "cell_type": "code",
   "execution_count": null,
   "metadata": {},
   "outputs": [],
   "source": [
    "hfc_precomputed = best_theta_model.historical_forecasts(\n",
    "    last_points_only=False, stride=1, **hfc_params\n",
    ")\n",
    "new_error = best_theta_model.backtest(\n",
    "    historical_forecasts=hfc_precomputed,\n",
    "    last_points_only=False,\n",
    "    stride=1,\n",
    "    **hfc_params\n",
    ")\n",
    "\n",
    "print(f\"Average error (MAPE) over all historical forecasts: {new_error:.2f}%\")"
   ]
  },
  {
   "cell_type": "code",
   "execution_count": null,
   "metadata": {},
   "outputs": [],
   "source": [
    "print(len(hfc_precomputed))\n",
    "hfc_precomputed[1].to_dataframe()"
   ]
  },
  {
   "cell_type": "code",
   "execution_count": null,
   "metadata": {},
   "outputs": [],
   "source": [
    "from darts.utils.statistics import plot_residuals_analysis\n",
    "\n",
    "plot_residuals_analysis(best_theta_model.residuals(series))"
   ]
  },
  {
   "cell_type": "code",
   "execution_count": null,
   "metadata": {},
   "outputs": [],
   "source": [
    "from darts.metrics import ae\n",
    "import matplotlib.pyplot as plt\n",
    "\n",
    "residuals = best_theta_model.residuals(\n",
    "    historical_forecasts=hfc_precomputed,\n",
    "    metric = ae,\n",
    "    last_points_only=False,\n",
    "    values_only=True,\n",
    "    **hfc_params\n",
    ")\n",
    "residuals2 = np.concatenate(residuals, axis=1)[:,:,0] # remove the third dimension \n",
    "\n",
    "fig, ax = plt.subplots()\n",
    "for forecast_step in range(len(residuals2)):\n",
    "    ax.hist(residuals2[forecast_step], label=f\"step {forecast_step}\", alpha=0.5)\n",
    "ax.legend()\n",
    "ax.set_title(\"Absolute Errors per forecast step\")"
   ]
  },
  {
   "cell_type": "code",
   "execution_count": null,
   "metadata": {},
   "outputs": [],
   "source": [
    "np.concatenate(residuals, axis=1)[:,:,0].shape\n"
   ]
  },
  {
   "cell_type": "code",
   "execution_count": null,
   "metadata": {},
   "outputs": [],
   "source": [
    "model_es = ExponentialSmoothing(seasonal_periods=12)\n",
    "historical_fcast_es = model_es.historical_forecasts(**hfc_params)\n",
    "\n",
    "series.plot(label=\"data\")\n",
    "historical_fcast_es.plot(label=\"backtest 3-months ahead forecast (exp. smoothing)\")\n",
    "print(f\"MAPE: {mape(historical_fcast_es, series):.2f}%\")\n"
   ]
  },
  {
   "cell_type": "code",
   "execution_count": null,
   "metadata": {},
   "outputs": [],
   "source": [
    "plot_residuals_analysis(model_es.residuals(series, verbose=True))"
   ]
  },
  {
   "cell_type": "markdown",
   "metadata": {},
   "source": [
    "# Machine Learning and global models\n",
    "\n",
    "## a toy example with two series"
   ]
  },
  {
   "cell_type": "code",
   "execution_count": null,
   "metadata": {},
   "outputs": [],
   "source": [
    "from darts.datasets import AirPassengersDataset, MonthlyMilkDataset\n",
    "\n",
    "series_air = AirPassengersDataset().load().astype(np.float32)\n",
    "series_milk = MonthlyMilkDataset().load().astype(np.float32)\n",
    "\n",
    "train_air, val_air = series_air[:-36], series_air[-36:]\n",
    "train_milk, val_milk = series_milk[:-36], series_milk[-36:]\n",
    "\n",
    "train_air.plot()\n",
    "train_milk.plot()\n",
    "val_air.plot()\n",
    "val_milk.plot()"
   ]
  },
  {
   "cell_type": "code",
   "execution_count": null,
   "metadata": {},
   "outputs": [],
   "source": [
    "from darts.dataprocessing.transformers import Scaler\n",
    "\n",
    "scaler = Scaler() # scale between 0 and 1\n",
    "\n",
    "train_air_scaled, train_milk_scaled = scaler.fit_transform([train_air, train_milk])\n",
    "\n",
    "train_air_scaled.plot()\n",
    "train_milk_scaled.plot()"
   ]
  },
  {
   "cell_type": "markdown",
   "metadata": {},
   "source": [
    "## Using deep learning: n-beats"
   ]
  },
  {
   "cell_type": "code",
   "execution_count": null,
   "metadata": {},
   "outputs": [],
   "source": [
    "from darts.models import NBEATSModel\n",
    "\n",
    "model = NBEATSModel(\n",
    "    input_chunk_length=24,\n",
    "    output_chunk_length=12,\n",
    "    random_state=42\n",
    ")\n",
    "\n",
    "model.fit([train_air_scaled, train_milk_scaled], epochs=50, verbose=True)"
   ]
  },
  {
   "cell_type": "code",
   "execution_count": null,
   "metadata": {},
   "outputs": [],
   "source": [
    "pred_air, pred_milk = model.predict(\n",
    "    series = [train_air_scaled, train_milk_scaled],\n",
    "    n=36\n",
    ")\n",
    "\n",
    "# scale back\n",
    "pred_air, pred_milk = scaler.inverse_transform([pred_air, pred_milk])\n",
    "\n",
    "plt.figure(figsize=(10, 6))\n",
    "series_air.plot(label=\"Air Passengers (actual)\")\n",
    "pred_air.plot(label=\"Air Passengers (predicted)\")\n",
    "series_milk.plot(label=\"Monthly Milk (actual)\")\n",
    "pred_milk.plot(label=\"Monthly Milk (predicted)\")"
   ]
  },
  {
   "cell_type": "markdown",
   "metadata": {},
   "source": [
    "# Covariates: using external data "
   ]
  },
  {
   "cell_type": "code",
   "execution_count": null,
   "metadata": {},
   "outputs": [],
   "source": [
    "from darts import concatenate\n",
    "from darts.utils.timeseries_generation import datetime_attribute_timeseries\n",
    "\n",
    "air_covs = concatenate(\n",
    "    [\n",
    "        datetime_attribute_timeseries(series_air, \"month\", dtype=np.float32),\n",
    "        datetime_attribute_timeseries(series_air, \"year\", dtype=np.float32),\n",
    "    ],\n",
    "    axis=\"component\"\n",
    ")\n",
    "milk_covs = concatenate(\n",
    "    [\n",
    "        datetime_attribute_timeseries(series_milk, \"month\", dtype=np.float32),\n",
    "        datetime_attribute_timeseries(series_milk, \"year\", dtype=np.float32),\n",
    "    ],\n",
    "    axis=\"component\"\n",
    ")\n",
    "\n",
    "air_covs_scaled, milk_covs_scaled = Scaler().fit_transform([air_covs, milk_covs])\n",
    "air_covs_scaled.plot()\n",
    "milk_covs_scaled.plot()\n",
    "plt.title(\n",
    "    \"one multivariate time sereis of 2 dimensions, containing covariates for the air series\"\n",
    ")"
   ]
  },
  {
   "cell_type": "code",
   "execution_count": null,
   "metadata": {},
   "outputs": [],
   "source": [
    "model = NBEATSModel(\n",
    "    input_chunk_length=24,\n",
    "    output_chunk_length=12,\n",
    "    random_state=42\n",
    ")\n",
    "\n",
    "model.fit(\n",
    "    [train_air_scaled, train_milk_scaled],\n",
    "    past_covariates=[air_covs_scaled, milk_covs_scaled],\n",
    "    epochs=50,\n",
    "    verbose=True\n",
    ")"
   ]
  },
  {
   "cell_type": "code",
   "execution_count": null,
   "metadata": {},
   "outputs": [],
   "source": [
    "preds = model.predict(\n",
    "    series = [train_air_scaled, train_milk_scaled],\n",
    "    past_covariates = [air_covs_scaled, milk_covs_scaled],\n",
    "    n=36\n",
    ")\n",
    "\n",
    "# scale back\n",
    "pred_air, pred_milk = scaler.inverse_transform(preds)\n",
    "\n",
    "plt.figure(figsize=(10,6))\n",
    "series_air.plot(label=\"Air Passengers (actual)\")\n",
    "pred_air.plot(label=\"Air Passengers (predicted)\")\n",
    "series_milk.plot(label=\"Monthly Milk (actual)\")\n",
    "pred_milk.plot(label=\"Monthly Milk (predicted)\")"
   ]
  },
  {
   "cell_type": "code",
   "execution_count": null,
   "metadata": {},
   "outputs": [],
   "source": [
    "def extract_year(idx):\n",
    "    return (idx.year - 1950) / 50\n",
    "\n",
    "encoders = {\n",
    "    \"cyclic\": {\n",
    "        \"future\": [\"month\"] # montyh is cyclic, so we encode it as a sine and cosine wave\n",
    "    },\n",
    "    \"datetime_attribute\": {\n",
    "        \"future\": [\"hour\", \"dayofweek\"]\n",
    "    },\n",
    "    \"position\": { # absolute position encoding, used as past and future\n",
    "        \"past\": [\"absolute\"],\n",
    "        \"future\": [\"relative\"]\n",
    "    },\n",
    "    \"custom\": {\n",
    "        \"past\": [extract_year]\n",
    "    },\n",
    "    \"transformer\": Scaler()\n",
    "}\n",
    "\n",
    "\n",
    "\n"
   ]
  },
  {
   "cell_type": "code",
   "execution_count": null,
   "metadata": {},
   "outputs": [],
   "source": [
    "# actual example\n",
    "encoders = {\n",
    "    \"datetime_attribute\": {\n",
    "        \"past\": [\"month\", \"year\"]\n",
    "    },\n",
    "    \"transformer\": Scaler()\n",
    "}"
   ]
  },
  {
   "cell_type": "code",
   "execution_count": null,
   "metadata": {},
   "outputs": [],
   "source": [
    "model = NBEATSModel(\n",
    "    input_chunk_length=24,\n",
    "    output_chunk_length=12,\n",
    "    random_state=42,\n",
    "    add_encoders=encoders\n",
    ")\n",
    "\n",
    "model.fit([train_air_scaled, train_milk_scaled], epochs=50, verbose=True)"
   ]
  },
  {
   "cell_type": "code",
   "execution_count": null,
   "metadata": {},
   "outputs": [],
   "source": [
    "preds = model.predict(\n",
    "    series = [train_air_scaled, train_milk_scaled],\n",
    "    n=36,\n",
    "    show_warnings=True\n",
    ")\n",
    "\n",
    "pred_air, pred_milk = scaler.inverse_transform(preds)\n",
    "plt.figure(figsize=(10, 6))\n",
    "series_air.plot(label=\"Air Passengers (actual)\")\n",
    "pred_air.plot(label=\"Air Passengers (predicted)\")\n",
    "series_milk.plot(label=\"Monthly Milk (actual)\")\n",
    "pred_milk.plot(label=\"Monthly Milk (predicted)\")"
   ]
  },
  {
   "cell_type": "markdown",
   "metadata": {},
   "source": [
    "## Regression forecasting models\n",
    "\n"
   ]
  },
  {
   "cell_type": "code",
   "execution_count": null,
   "metadata": {},
   "outputs": [],
   "source": [
    "from sklearn.linear_model import BayesianRidge\n",
    "from darts.models import RegressionModel\n",
    "\n",
    "model = RegressionModel(\n",
    "    lags=72, \n",
    "    lags_future_covariates=[-6,0],\n",
    "    model=BayesianRidge())\n",
    "\n",
    "model.fit(\n",
    "    [train_air_scaled, train_milk_scaled],\n",
    "    future_covariates=[air_covs_scaled, milk_covs_scaled]\n",
    ")"
   ]
  },
  {
   "cell_type": "code",
   "execution_count": null,
   "metadata": {},
   "outputs": [],
   "source": [
    "preds = model.predict(\n",
    "    series=[train_air_scaled, train_milk_scaled],\n",
    "    future_covariates=[air_covs_scaled, milk_covs_scaled],\n",
    "    n=36\n",
    ")\n",
    "\n",
    "pred_air, pred_milk = scaler.inverse_transform(preds)\n",
    "\n",
    "plt.figure(figsize=(10, 6))\n",
    "series_air.plot(label=\"actual (air)\")\n",
    "series_milk.plot(label=\"actual (milk)\")\n",
    "pred_air.plot(label=\"forecast (air)\")\n",
    "pred_milk.plot(label=\"forecast (milk)\");"
   ]
  },
  {
   "cell_type": "code",
   "execution_count": null,
   "metadata": {},
   "outputs": [],
   "source": [
    "mape([series_air, series_milk], [pred_air, pred_milk])"
   ]
  },
  {
   "cell_type": "code",
   "execution_count": null,
   "metadata": {},
   "outputs": [],
   "source": [
    "mape([series_air, series_milk], [pred_air, pred_milk], series_reduction=np.mean)"
   ]
  },
  {
   "cell_type": "code",
   "execution_count": null,
   "metadata": {},
   "outputs": [],
   "source": [
    "bayes_ridge_model = RegressionModel(\n",
    "    lags=72, lags_future_covariates=[0], model=BayesianRidge()\n",
    ")\n",
    "\n",
    "backtest = bayes_ridge_model.historical_forecasts(\n",
    "    future_covariates = [air_covs_scaled, milk_covs_scaled],\n",
    "    **hfc_params\n",
    ")"
   ]
  },
  {
   "cell_type": "code",
   "execution_count": null,
   "metadata": {},
   "outputs": [],
   "source": [
    "print(f\"MAPE = {mape(series_air, backtest):.2f}%\")\n",
    "series_air.plot()\n",
    "backtest.plot();"
   ]
  },
  {
   "cell_type": "code",
   "execution_count": null,
   "metadata": {},
   "outputs": [],
   "source": [
    "\n",
    "# to avoid data leakage, make sure the scaler is retrained each iteration\n",
    "backtest_auto_scaling = bayes_ridge_model.historical_forecasts(\n",
    "    future_covariates = air_covs,\n",
    "    data_transformers = {\"series\": Scaler(), \"future_covariates\": Scaler()},\n",
    "    retrain=True, ### scalers need to be fitted each iteration,\n",
    "    **hfc_params\n",
    ")\n",
    "\n",
    "print(f\"MAPE = {mape(series_air, backtest_auto_scaling):.2f}%\")\n",
    "series_air.plot()\n",
    "backtest_auto_scaling.plot()"
   ]
  },
  {
   "cell_type": "markdown",
   "metadata": {},
   "source": [
    "## Forecast start shifting"
   ]
  },
  {
   "cell_type": "code",
   "execution_count": null,
   "metadata": {},
   "outputs": [],
   "source": [
    "from darts.models import LinearRegressionModel\n",
    "\n",
    "\n",
    "model_shifted = LinearRegressionModel(\n",
    "    lags=12,\n",
    "    lags_future_covariates=(0,12),\n",
    "    output_chunk_length=12,\n",
    "    output_chunk_shift=12\n",
    ")\n",
    "\n",
    "model_shifted.fit(series_air[:-24], future_covariates=air_covs)\n",
    "preds = model_shifted.predict(n=12)\n",
    "\n",
    "series_air[:-24].plot(label=\"train\")\n",
    "series_air[-24:].plot(label=\"validation\")\n",
    "preds.plot(label=\"shifted prediction\")"
   ]
  },
  {
   "cell_type": "markdown",
   "metadata": {},
   "source": [
    "## probabalistic forecasts"
   ]
  },
  {
   "cell_type": "code",
   "execution_count": null,
   "metadata": {},
   "outputs": [],
   "source": [
    "model_es = ExponentialSmoothing()\n",
    "model_es.fit(train)\n",
    "probababilistic_forecast = model_es.predict(len(val), num_samples=500)\n",
    "\n",
    "series.plot(label=\"actual\")\n",
    "probababilistic_forecast.plot(label=\"probabilistic forecast (exp. smoothing)\")\n",
    "plt.legend()\n",
    "plt.show()"
   ]
  },
  {
   "cell_type": "code",
   "execution_count": null,
   "metadata": {},
   "outputs": [],
   "source": []
  }
 ],
 "metadata": {
  "language_info": {
   "name": "python",
   "pygments_lexer": "ipython3"
  }
 },
 "nbformat": 4,
 "nbformat_minor": 2
}
